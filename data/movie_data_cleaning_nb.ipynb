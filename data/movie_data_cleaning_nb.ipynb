{
 "cells": [
  {
   "cell_type": "code",
   "execution_count": 1,
   "id": "eb0ce7a0",
   "metadata": {},
   "outputs": [],
   "source": [
    "# Setup cell\n",
    "import pandas as pd\n",
    "movies = pd.read_csv(\"./movie_data_raw.csv\")"
   ]
  },
  {
   "cell_type": "code",
   "execution_count": 3,
   "id": "fad63807",
   "metadata": {},
   "outputs": [],
   "source": [
    "# Drop duplicates\n",
    "movies.drop_duplicates(inplace=True)"
   ]
  },
  {
   "cell_type": "code",
   "execution_count": 4,
   "id": "1b87ad1a",
   "metadata": {},
   "outputs": [],
   "source": [
    "# Convert 'Runtime (Minutes)' to numeric and fill NaNs with median\n",
    "movies['Runtime (Minutes)'] = pd.to_numeric(movies['Runtime (Minutes)'], errors='coerce')\n",
    "movies['Runtime (Minutes)'] = movies['Runtime (Minutes)'].fillna(movies['Runtime (Minutes)'].median())"
   ]
  },
  {
   "cell_type": "code",
   "execution_count": 5,
   "id": "bef4a39b",
   "metadata": {},
   "outputs": [],
   "source": [
    "# Remove '$' and 'M' from 'Revenue (Millions)'\n",
    "movies['Revenue (Millions)'] = movies['Revenue (Millions)'].replace(\n",
    "    r'[\\$,M]', '', regex=True\n",
    ")"
   ]
  },
  {
   "cell_type": "code",
   "execution_count": 11,
   "id": "1930dabd",
   "metadata": {},
   "outputs": [],
   "source": [
    "# Convert 'Metascore' to numeric and fill NaNs with median\n",
    "movies['Metascore'] = pd.to_numeric(movies['Metascore'], errors='coerce')\n",
    "movies['Metascore'] = movies['Metascore'].fillna(movies['Metascore'].median())"
   ]
  },
  {
   "cell_type": "code",
   "execution_count": 7,
   "id": "5e0c005c",
   "metadata": {},
   "outputs": [],
   "source": [
    "# Fill Remaining NaNs\n",
    "\n",
    "movies['Genre'] = movies['Genre'].fillna(movies['Genre'].mode()[0])"
   ]
  },
  {
   "cell_type": "code",
   "execution_count": 8,
   "id": "0a150d5c",
   "metadata": {},
   "outputs": [],
   "source": [
    "# Drop Irrelevant columns\n",
    "movies.drop(columns=['Description'], inplace=True)"
   ]
  },
  {
   "cell_type": "code",
   "execution_count": 10,
   "id": "ef80248e",
   "metadata": {},
   "outputs": [],
   "source": [
    "# Commit changes to file\n",
    "movies.to_csv(\"movie_data_cleaned\", index=False)"
   ]
  }
 ],
 "metadata": {
  "kernelspec": {
   "display_name": "Python 3",
   "language": "python",
   "name": "python3"
  },
  "language_info": {
   "codemirror_mode": {
    "name": "ipython",
    "version": 3
   },
   "file_extension": ".py",
   "mimetype": "text/x-python",
   "name": "python",
   "nbconvert_exporter": "python",
   "pygments_lexer": "ipython3",
   "version": "3.13.5"
  }
 },
 "nbformat": 4,
 "nbformat_minor": 5
}
